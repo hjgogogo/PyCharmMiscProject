{
 "cells": [
  {
   "cell_type": "code",
   "metadata": {
    "ExecuteTime": {
     "end_time": "2024-12-23T02:34:06.567631Z",
     "start_time": "2024-12-23T02:34:05.581696Z"
    }
   },
   "source": [
    "import openpyxl\n",
    "import pandas as pd\n",
    "from datetime import datetime, timedelta\n",
    "import shutil\n",
    "import os\n",
    "import sys \n",
    "import time"
   ],
   "outputs": [],
   "execution_count": 1
  },
  {
   "cell_type": "code",
   "execution_count": 31,
   "metadata": {},
   "outputs": [],
   "source": [
    "def get_workfile(path):\n",
    "    workbook_path = path\n",
    "    workbook = openpyxl.load_workbook(workbook_path)\n",
    "    sheet = workbook['银行卡明细查询模板']\n",
    "    return workbook, sheet"
   ]
  },
  {
   "cell_type": "code",
   "execution_count": 32,
   "metadata": {},
   "outputs": [],
   "source": [
    "def date_split(start_time, end_time):\n",
    "    time_periods = []\n",
    "    current_time = start_time\n",
    "    while current_time < end_time:\n",
    "        next_time = current_time + timedelta(days=85)\n",
    "        if next_time > end_time:\n",
    "            next_time = end_time\n",
    "        time_periods.append((current_time, next_time))\n",
    "        current_time = next_time\n",
    "    return time_periods"
   ]
  },
  {
   "cell_type": "code",
   "execution_count": 33,
   "metadata": {},
   "outputs": [],
   "source": [
    "class Constants:\n",
    "    MainCategory_0 = '个人'\n",
    "    MainCategory_1 = '对公'\n",
    "    SplitMethod = '按月拆分'"
   ]
  },
  {
   "cell_type": "code",
   "execution_count": 34,
   "metadata": {},
   "outputs": [],
   "source": [
    "class Card:  \n",
    "    def __init__(self, name, card_number, bank, start_time, end_time):  \n",
    "        self.main_category = Constants.MainCategory_0 \n",
    "        self.name = name  \n",
    "        self.card_number = card_number  \n",
    "        self.bank = bank  \n",
    "        self.start_time = datetime.strptime(start_time.split(' ')[0], '%Y-%m-%d')  \n",
    "        self.end_time = datetime.strptime(end_time.split(' ')[0], '%Y-%m-%d') \n",
    "        self.split_method = Constants.SplitMethod\n",
    "  \n",
    "    def get_main_category(self):  \n",
    "        return self.main_category  \n",
    "  \n",
    "    def set_main_category(self, main_category):  \n",
    "        self.main_category = main_category  \n",
    "  \n",
    "    def get_name(self):  \n",
    "        return self.name  \n",
    "  \n",
    "    def set_name(self, name):  \n",
    "        self.name = name  \n",
    "  \n",
    "    def get_card_number(self):  \n",
    "        return self.card_number  \n",
    "  \n",
    "    def set_card_number(self, card_number):  \n",
    "        self.card_number = card_number  \n",
    "  \n",
    "    def get_bank(self):  \n",
    "        return self.bank  \n",
    "  \n",
    "    def set_bank(self, bank):  \n",
    "        self.bank = bank  \n",
    "  \n",
    "    def get_start_time(self):  \n",
    "        return self.start_time  \n",
    "  \n",
    "    def set_start_time(self, start_time):  \n",
    "        self.start_time = start_time  \n",
    "  \n",
    "    def get_end_time(self):  \n",
    "        return self.end_time  \n",
    "  \n",
    "    def set_end_time(self, end_time):  \n",
    "        self.end_time = end_time  \n",
    "  \n",
    "    def get_split_method(self):  \n",
    "        return self.split_method  \n",
    "  \n",
    "    def set_split_method(self, split_method):  \n",
    "        self.split_method = split_method"
   ]
  },
  {
   "cell_type": "code",
   "execution_count": 35,
   "metadata": {},
   "outputs": [],
   "source": [
    "def wirite_paperwork(card_list, template_path, output_dir):\n",
    "    file_index = 1\n",
    "    row_index = 3\n",
    "\n",
    "    workbook, sheet = get_workfile(template_path)\n",
    "\n",
    "    for card in card_list:\n",
    "        for date in date_split(card.get_start_time(), card.get_end_time()):        \n",
    "            sheet.cell(row=row_index, column=1, value=card.get_main_category())\n",
    "            sheet.cell(row=row_index, column=2, value=card.get_name())\n",
    "            sheet.cell(row=row_index, column=3, value=card.get_card_number())\n",
    "            sheet.cell(row=row_index, column=4, value=card.get_bank())\n",
    "            sheet.cell(row=row_index, column=5, value=date[0].strftime(\"%Y-%m-%d\"))\n",
    "            sheet.cell(row=row_index, column=6, value=date[1].strftime(\"%Y-%m-%d\"))\n",
    "            sheet.cell(row=row_index, column=7, value=card.get_split_method())\n",
    "            row_index += 1\n",
    "\n",
    "            if row_index > 195:\n",
    "                workbook.save(f'{output_dir}/zn_{file_index}.xlsx')\n",
    "                file_index += 1\n",
    "                workbook.close()\n",
    "                workbook, sheet = get_workfile(template_path)\n",
    "                row_index = 3\n",
    "\n",
    "    workbook.save(f'{output_dir}/zn_{file_index}.xlsx')\n",
    "    workbook.close()"
   ]
  },
  {
   "cell_type": "code",
   "execution_count": 36,
   "metadata": {},
   "outputs": [],
   "source": [
    "# bank_path = input('请输入银行卡调单文件（姓名,对手账户,发卡机构,开始时间,结束时间）路径：')\n",
    "bank_path = '../填写模板.xlsx'\n",
    "\n",
    "# BASE_DIR = os.path.dirname(os.path.realpath(sys.argv[0]))\n",
    "BASE_DIR = r'C:\\Users\\18428\\Documents\\代码\\RPA程序\\银行丢单表填写v2'\n",
    "SOURCES_DIR = os.path.join(BASE_DIR, 'sources')\n",
    "\n",
    "bank_dict_path = os.path.join(SOURCES_DIR, '发卡机构字典.xlsx')\n",
    "template_path = os.path.join(SOURCES_DIR, 'zn_template.xlsx')   # 治安调单表模板\n",
    "output_dir = os.path.join(BASE_DIR, 'output')\n",
    "tmp_dir = os.path.join(BASE_DIR, 'tmp')"
   ]
  },
  {
   "cell_type": "code",
   "execution_count": 37,
   "metadata": {},
   "outputs": [
    {
     "name": "stdout",
     "output_type": "stream",
     "text": [
      "未匹配数据：\n",
      "     姓名                   卡号         发卡机构 治安发卡机构\n",
      "20  杨鑫鑫  6231090401001532056   天津滨海农村商业银行      -\n",
      "25  陈顺峰     6223190218900063         青岛农信      -\n",
      "31  徐鑫淼  6235310001004692421   郑州银行股份有限公司      -\n",
      "42  张俊羊  6230270600010163878  陕西省农村信用社联合社      -\n",
      "44  吴甜甜   622960868160889803      邯郸市商业银行      -\n"
     ]
    }
   ],
   "source": [
    "bank_df = pd.read_excel(bank_path, dtype=str)\n",
    "bank_dict = pd.read_excel(bank_dict_path, dtype=str)\n",
    "merged_df = pd.merge(bank_df, bank_dict, how='left', on='发卡机构')\n",
    "merged_df['治安发卡机构'].fillna('-', inplace=True)\n",
    "\n",
    "t_df = merged_df[['姓名', '卡号', '发卡机构', '治安发卡机构']]\n",
    "merged_df = merged_df[merged_df['治安发卡机构'] != '-']\n",
    "\n",
    "t_df = t_df[t_df['治安发卡机构'] == '-']\n",
    "t_df.drop_duplicates(inplace=True, subset=['发卡机构'])\n",
    "t_df.to_excel(os.path.join(BASE_DIR, '调单卡_未匹配到.xlsx'), index=False)\n",
    "if t_df.empty:  \n",
    "    print(\"开户行已全部匹配\")  \n",
    "else:  \n",
    "    print('未匹配数据：')\n",
    "    print(t_df.head())"
   ]
  },
  {
   "cell_type": "code",
   "execution_count": 38,
   "metadata": {},
   "outputs": [],
   "source": [
    "merged_df = merged_df[['姓名', '卡号', '治安发卡机构', '开始时间', '结束时间']].values\n",
    "card_list = [Card(bl[0], bl[1], bl[2], bl[3], bl[4]) for bl in merged_df]"
   ]
  },
  {
   "cell_type": "code",
   "execution_count": 39,
   "metadata": {},
   "outputs": [],
   "source": [
    "if not os.path.exists(tmp_dir):  \n",
    "        os.mkdir(tmp_dir)  \n",
    "else:\n",
    "    shutil.rmtree(tmp_dir)\n",
    "    os.mkdir(tmp_dir)\n",
    "    \n",
    "if not os.path.exists(output_dir):  \n",
    "        os.mkdir(output_dir)  \n",
    "else:\n",
    "    shutil.rmtree(output_dir)\n",
    "    os.mkdir(output_dir)"
   ]
  },
  {
   "cell_type": "code",
   "execution_count": 40,
   "metadata": {},
   "outputs": [],
   "source": [
    "wirite_paperwork(card_list, template_path, tmp_dir)"
   ]
  },
  {
   "cell_type": "code",
   "execution_count": 41,
   "metadata": {},
   "outputs": [
    {
     "name": "stdout",
     "output_type": "stream",
     "text": [
      "C:\\Users\\18428\\Documents\\代码\\RPA程序\\银行丢单表填写v2\\tmp\\zn_1.xlsx\n",
      "C:\\Users\\18428\\Documents\\代码\\RPA程序\\银行丢单表填写v2\\tmp\\zn_2.xlsx\n",
      "C:\\Users\\18428\\Documents\\代码\\RPA程序\\银行丢单表填写v2\\tmp\\zn_3.xlsx\n",
      "C:\\Users\\18428\\Documents\\代码\\RPA程序\\银行丢单表填写v2\\tmp\\zn_4.xlsx\n",
      "C:\\Users\\18428\\Documents\\代码\\RPA程序\\银行丢单表填写v2\\tmp\\zn_5.xlsx\n",
      "C:\\Users\\18428\\Documents\\代码\\RPA程序\\银行丢单表填写v2\\tmp\\zn_6.xlsx\n",
      "C:\\Users\\18428\\Documents\\代码\\RPA程序\\银行丢单表填写v2\\tmp\\zn_7.xlsx\n",
      "运行结束3秒后关闭\n"
     ]
    }
   ],
   "source": [
    "import win32com.client # 调用wps接口\n",
    "\n",
    "xlsx_path = os.listdir(tmp_dir)\n",
    "\n",
    "for p in xlsx_path:\n",
    "    path = os.path.join(tmp_dir, p)\n",
    "    print(path)\n",
    "    application = win32com.client.Dispatch('Excel.Application')\n",
    "    workbook = application.Workbooks.Open(path)\n",
    "    worksheet = workbook.Worksheets('银行卡明细查询模板')\n",
    "    dirname, filename = os.path.split(path)\n",
    "    worksheet.SaveAs(os.path.join(output_dir, filename))\n",
    "    workbook.Close()\n",
    "    application.Quit()\n",
    "shutil.rmtree(tmp_dir)\n",
    "print('运行结束3秒后关闭')\n",
    "# time.sleep(3)"
   ]
  }
 ],
 "metadata": {
  "kernelspec": {
   "display_name": "base",
   "language": "python",
   "name": "python3"
  },
  "language_info": {
   "codemirror_mode": {
    "name": "ipython",
    "version": 3
   },
   "file_extension": ".py",
   "mimetype": "text/x-python",
   "name": "python",
   "nbconvert_exporter": "python",
   "pygments_lexer": "ipython3",
   "version": "3.8.8"
  }
 },
 "nbformat": 4,
 "nbformat_minor": 2
}
