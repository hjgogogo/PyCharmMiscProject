{
 "cells": [
  {
   "metadata": {
    "ExecuteTime": {
     "end_time": "2024-12-19T02:59:38.396760Z",
     "start_time": "2024-12-19T02:59:38.391131Z"
    }
   },
   "cell_type": "code",
   "source": [
    "import pandas as pd\n",
    "\n",
    "from openpyxl import Workbook\n",
    "from openpyxl.worksheet.datavalidation import DataValidation"
   ],
   "id": "286ab55932e81c4c",
   "outputs": [],
   "execution_count": 5
  },
  {
   "metadata": {},
   "cell_type": "code",
   "outputs": [],
   "execution_count": null,
   "source": "",
   "id": "624731326ace5e13"
  },
  {
   "metadata": {
    "ExecuteTime": {
     "end_time": "2024-12-19T03:10:29.677597Z",
     "start_time": "2024-12-19T03:10:29.647557Z"
    }
   },
   "cell_type": "code",
   "source": [
    "\n",
    "\n",
    "# 创建一个新的工作簿\n",
    "wb = Workbook()\n",
    "\n",
    "# 获取活动工作表\n",
    "ws = wb.active\n",
    "\n",
    "# 设置下拉列表的选项\n",
    "options = [\"Option 1\", \"Option 2\", \"Option 3\"]\n",
    "\n",
    "# 创建数据验证对象\n",
    "dv = DataValidation(type=\"list\", formula1='\"{}\"'.format('\",\"'.join(options)), showDropDown=True)\n",
    "\n",
    "# 将数据验证应用于A2:A10单元格区域\n",
    "dv.add(\"A2:A10\")\n",
    "\n",
    "# 将数据验证添加到工作表\n",
    "ws.add_data_validation(dv)\n",
    "\n",
    "# 保存Excel文件\n",
    "wb.save(\"example.xlsx\")\n"
   ],
   "id": "d8cd931c153b4752",
   "outputs": [],
   "execution_count": 6
  },
  {
   "metadata": {
    "ExecuteTime": {
     "end_time": "2024-12-19T03:16:06.631565Z",
     "start_time": "2024-12-19T03:16:06.609566Z"
    }
   },
   "cell_type": "code",
   "source": [
    "from openpyxl import Workbook\n",
    "from openpyxl.worksheet.datavalidation import DataValidation\n",
    "\n",
    "# 一、创建一个新的Excel文件\n",
    "wb = Workbook()\n",
    "ws = wb.active\n",
    "\n",
    "# 二、设置下拉选项的列表\n",
    "options = ['aaa', 'bbb']  # 这里的“aaa”、“bbb”换成你自己的选项值\n",
    "\n",
    "# 三、创建一个数据验证规则\n",
    "dv = DataValidation(type=\"list\", formula1='\"{}\"'.format(','.join(options)), allow_blank=True)\n",
    "\n",
    "# 四、将数据验证规则添加到工作表中\n",
    "ws.add_data_validation(dv)\n",
    "\n",
    "# 五、设置下拉选项的单元格\n",
    "cell = ws['A1']  # 注意：“A1”是第一行第一列，如果想改成第二行第二列，则是“B2”，\n",
    "\n",
    "# 六、将数据验证规则应用到单元格\n",
    "dv.add(cell)\n",
    "\n",
    "# 七、选择下拉选项中的某个选项\n",
    "cell.value = 'bbb' # 选择你的默认选项\n",
    "\n",
    "# 八、保存Excel文件\n",
    "wb.save(\"example1.xlsx\")  # 替换成新的表格\n",
    "\n",
    "\n",
    "\n"
   ],
   "id": "9e23b8c6ae9282d3",
   "outputs": [],
   "execution_count": 8
  },
  {
   "metadata": {},
   "cell_type": "code",
   "outputs": [],
   "execution_count": null,
   "source": "",
   "id": "86862751674a4151"
  }
 ],
 "metadata": {
  "kernelspec": {
   "display_name": "Python 3",
   "language": "python",
   "name": "python3"
  },
  "language_info": {
   "codemirror_mode": {
    "name": "ipython",
    "version": 2
   },
   "file_extension": ".py",
   "mimetype": "text/x-python",
   "name": "python",
   "nbconvert_exporter": "python",
   "pygments_lexer": "ipython2",
   "version": "2.7.6"
  }
 },
 "nbformat": 4,
 "nbformat_minor": 5
}
