{
 "cells": [
  {
   "cell_type": "code",
   "id": "initial_id",
   "metadata": {
    "collapsed": true,
    "ExecuteTime": {
     "end_time": "2024-12-23T02:09:01.422717Z",
     "start_time": "2024-12-23T02:09:01.418892Z"
    }
   },
   "source": [
    "import time\n",
    "\n",
    "from selenium import webdriver\n",
    "from selenium.webdriver.common.by import By\n",
    "from selenium.webdriver.common.keys import Keys\n",
    "from selenium.webdriver.support.ui import WebDriverWait\n",
    "from selenium.webdriver.support import expected_conditions as EC\n",
    "from selenium.webdriver.common.action_chains import ActionChains"
   ],
   "outputs": [],
   "execution_count": 12
  },
  {
   "metadata": {
    "ExecuteTime": {
     "end_time": "2024-12-23T02:09:04.512725Z",
     "start_time": "2024-12-23T02:09:01.430721Z"
    }
   },
   "cell_type": "code",
   "source": [
    "# 设置WebDriver路径\n",
    "driver_path = 'C:\\Program Files (x86)\\Microsoft\\Edge\\Application\\msedge.exe'\n",
    "\n",
    "# 初始化WebDriver\n",
    "driver = webdriver.Edge()"
   ],
   "id": "c416bad8a44884e3",
   "outputs": [
    {
     "name": "stderr",
     "output_type": "stream",
     "text": [
      "<>:2: SyntaxWarning: invalid escape sequence '\\P'\n",
      "<>:2: SyntaxWarning: invalid escape sequence '\\P'\n",
      "C:\\Users\\05294\\AppData\\Local\\Temp\\ipykernel_22000\\2521044949.py:2: SyntaxWarning: invalid escape sequence '\\P'\n",
      "  driver_path = 'C:\\Program Files (x86)\\Microsoft\\Edge\\Application\\msedge.exe'\n"
     ]
    }
   ],
   "execution_count": 13
  },
  {
   "metadata": {
    "ExecuteTime": {
     "end_time": "2024-12-23T02:09:05.044610Z",
     "start_time": "2024-12-23T02:09:04.524136Z"
    }
   },
   "cell_type": "code",
   "source": [
    "# 访问网页\n",
    "driver.get('http://10.7.64.31:7005/xedm/default.action')\n",
    "# 获取当前窗口大小\n",
    "current_size = driver.get_window_size()\n",
    "# 计算90%的窗口大小\n",
    "new_width = int(0.9 * current_size['width'])\n",
    "new_height = int(0.9 * current_size['height'])\n",
    "\n",
    "# 设置新的窗口大小\n",
    "driver.set_window_size(new_width, new_height)\n",
    "WebDriverWait(driver, 1).until(\n",
    "        EC.presence_of_element_located((By.ID, 'txtAccount_I'))  # 假设登录页面的用户名输入框的ID是'username'\n",
    ")\n",
    "\n"
   ],
   "id": "e73b482da05eb04f",
   "outputs": [
    {
     "data": {
      "text/plain": [
       "<selenium.webdriver.remote.webelement.WebElement (session=\"3f184fdf9b57100d2077e33be74d09d8\", element=\"f.CFA3721F145CCDEF26B5564E8D8896B8.d.8EB37F2F7CE792C149A09A0526BAEC02.e.1\")>"
      ]
     },
     "execution_count": 14,
     "metadata": {},
     "output_type": "execute_result"
    }
   ],
   "execution_count": 14
  },
  {
   "metadata": {
    "ExecuteTime": {
     "end_time": "2024-12-23T02:09:05.288179Z",
     "start_time": "2024-12-23T02:09:05.053841Z"
    }
   },
   "cell_type": "code",
   "source": [
    "# 定位用户名和密码输入框，并输入相应的凭证\n",
    "username = driver.find_element(By.ID, 'txtAccount_I')  # 替换为实际的用户名输入框元素定位方式\n",
    "password = driver.find_element(By.ID, 'txtPwd_I')  # 替换为实际的密码输入框元素定位方式\n",
    "\n",
    "username.send_keys('sunjiannan')  # 替换为你的用户名\n",
    "password.send_keys('Sunjn@163.com')  # 替换为你的密码\n",
    "\n",
    "# 定位登录按钮并点击\n",
    "login_button = driver.find_element(By.ID, 'btnLogin')  # 替换为实际的登录按钮元素定位方式\n",
    "login_button.click()\n",
    "\n",
    "# 等待登录操作完成\n",
    "WebDriverWait(driver, 10)\n",
    "\n"
   ],
   "id": "9fb8af2202b06e30",
   "outputs": [
    {
     "data": {
      "text/plain": [
       "<selenium.webdriver.support.wait.WebDriverWait (session=\"3f184fdf9b57100d2077e33be74d09d8\")>"
      ]
     },
     "execution_count": 15,
     "metadata": {},
     "output_type": "execute_result"
    }
   ],
   "execution_count": 15
  },
  {
   "metadata": {
    "ExecuteTime": {
     "end_time": "2024-12-23T02:09:05.702504Z",
     "start_time": "2024-12-23T02:09:05.299739Z"
    }
   },
   "cell_type": "code",
   "source": [
    "# 点击菜单旁边的搜索按钮\n",
    "search_button = driver.find_element(By.XPATH, '//*[@id=\"navigationTreePanel-innerCt\"]/div/div/a[2]')\n",
    "search_button.click()"
   ],
   "id": "8de6eb156bdd82c5",
   "outputs": [],
   "execution_count": 16
  },
  {
   "metadata": {
    "ExecuteTime": {
     "end_time": "2024-12-23T02:09:05.847110Z",
     "start_time": "2024-12-23T02:09:05.713142Z"
    }
   },
   "cell_type": "code",
   "source": [
    "# 在输入框中输入“委外资产”\n",
    "search_input = driver.find_element(By.XPATH, '//*[@id=\"textfield-1022-inputEl\"]')\n",
    "search_input.send_keys('委外资产')\n",
    "search_input.send_keys(Keys.ENTER)  # 按下回车键进行搜索\n"
   ],
   "id": "1df06a93b3cd22c1",
   "outputs": [],
   "execution_count": 17
  },
  {
   "metadata": {
    "ExecuteTime": {
     "end_time": "2024-12-23T02:09:07.357756Z",
     "start_time": "2024-12-23T02:09:05.863097Z"
    }
   },
   "cell_type": "code",
   "source": [
    "# 等待搜索结果\n",
    "time.sleep(1)\n",
    "WebDriverWait(driver, 10).until(EC.presence_of_element_located((By.XPATH, '//*/div[2]/div/div[3]/div/table/tbody/tr/td')))\n",
    "# 双击搜索结果（这里需要根据实际的DOM结构来定位）\n",
    "search_result = driver.find_element(By.XPATH, '//*/div[2]/div/div[3]/div/table/tbody/tr/td/div')\n",
    "# /html/body/div[7]/div[2]/div/div[3]/div/table/tbody/tr/td/div\n",
    "\n",
    "\n",
    "# 创建ActionChains对象\n",
    "actions = ActionChains(driver)\n",
    "# 滚动到目标元素的位置\n",
    "driver.execute_script(\"arguments[0].scrollIntoView();\", search_result)\n",
    "# 执行双击操作\n",
    "actions.double_click(search_result).perform()\n",
    "\n",
    "WebDriverWait(driver, 3).until(EC.presence_of_element_located((By.XPATH, '/html/body/div[4]/div[2]/div[2]/div/span/div/div[1]/div/form/div[1]/div/div/div/div/div/div/div/table/tbody/tr/td[1]/table/tbody/tr/td[1]/label')))\n"
   ],
   "id": "6af6fa86306f620d",
   "outputs": [],
   "execution_count": 18
  },
  {
   "metadata": {
    "ExecuteTime": {
     "end_time": "2024-12-23T02:18:45.820211Z",
     "start_time": "2024-12-23T02:18:45.584136Z"
    }
   },
   "cell_type": "code",
   "source": [
    "#筛选开始日期和结束日期\n",
    "# 点击筛选日期按钮//div[@class=\"search-result\"]//a\n",
    "driver.find_element(By.XPATH, '/html/body/div[4]/div[2]/div[2]/div/span/div/div[1]/div/form/div[1]/div/div/div/div/div/div/div/table/tbody/tr/td[1]/table/tbody/tr/td[2]/table/tbody/tr/td[2]/div').click()\n",
    "\n",
    "\n",
    "driver.find_element(By.XPATH, '/html/body/div[75]/div[1]/div[1]/div/a/span/span/span[2]').click()\n",
    "\n",
    "\n",
    "#//*[@id=\"monthpicker-1346-monthEl\"]/div[1]/a\n",
    "#/html/body/div[75]/div[2]/div[1]/div[1]/div[1]/a 一月\n",
    "#/html/body/div[75]/div[2]/div[1]/div[1]/div[2]/a 七月\n",
    "#/html/body/div[75]/div[2]/div[1]/div[1]/div[3]/a 二月"
   ],
   "id": "3d5abcd2267ea554",
   "outputs": [],
   "execution_count": 21
  }
 ],
 "metadata": {
  "kernelspec": {
   "display_name": "Python 3",
   "language": "python",
   "name": "python3"
  },
  "language_info": {
   "codemirror_mode": {
    "name": "ipython",
    "version": 2
   },
   "file_extension": ".py",
   "mimetype": "text/x-python",
   "name": "python",
   "nbconvert_exporter": "python",
   "pygments_lexer": "ipython2",
   "version": "2.7.6"
  }
 },
 "nbformat": 4,
 "nbformat_minor": 5
}
