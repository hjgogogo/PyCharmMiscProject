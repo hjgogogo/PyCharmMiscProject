{
 "cells": [
  {
   "cell_type": "code",
   "id": "initial_id",
   "metadata": {
    "collapsed": true,
    "ExecuteTime": {
     "end_time": "2024-12-23T07:59:42.265672Z",
     "start_time": "2024-12-23T07:59:35.713690Z"
    }
   },
   "source": [
    "import pandas as pd\n",
    "import os\n",
    "from datetime import datetime\n",
    "import warnings\n",
    "from openpyxl import load_workbook\n",
    "# 抑制特定类型的警告\n",
    "with warnings.catch_warnings():\n",
    "    warnings.simplefilter(\"ignore\", category=UserWarning)\n",
    "\n",
    "# 获取用户输入的日期\n",
    "date_input = input(\"请输入日期（格式如20240107）：\")\n",
    "date = datetime.strptime(date_input, '%Y%m%d')\n",
    "# 定义下载目录\n",
    "download_dir = r'C:\\Users\\05294\\Downloads'\n",
    "# 打开文件A\n",
    "#C:\\Users\\05294\\Downloads\\外贸信托-盈享致远-2024-01-07.xlsx\n",
    "file_a_path = f\"{download_dir}委外资产明细导入模板-盈享致远1-3号-{date}.xlsx\"\n",
    "\n",
    "# 加载原Excel文件\n",
    "wb = load_workbook(file_a_path)\n",
    "\n",
    "# 默认工作表名称，根据实际情况修改\n",
    "sheet_name = wb.sheetnames[0]  # 假设数据在第一个工作表\n",
    "\n",
    "# 获取工作表对象\n",
    "ws = wb[sheet_name]\n",
    "\n",
    "# 读取所有行和列的数据\n",
    "for row in ws.iter_rows(min_row=2, max_row=ws.max_row, min_col=1, max_col=ws.max_column):\n",
    "    for cell in row:\n",
    "        value = cell.value\n",
    "        if isinstance(value, str) and '科目名称' in value:  # 找到对应的列\n",
    "            col_index = cell.column  # 获取列索引\n",
    "\n",
    "file_a = pd.read_excel(file_a_path)\n",
    "\n",
    "# 删除资产代码列中字符串开头不是NHG和ZHG开头的行\n",
    "file_a = file_a[file_a['资产代码'].str.startswith('NHG') | file_a['资产代码'].str.startswith('ZHG')]\n",
    "\n",
    "\n",
    "\n",
    "\n",
    "\n",
    "# 遍历所属资管计划名称列去打开对应的excel文件\n",
    "plan_files = {}\n",
    "for index, row in file_a.iterrows():\n",
    "    plan_name = row['所属资管计划名称']\n",
    "    date_str = date.strftime('%Y%m%d')  # 将日期格式化为20240107格式\n",
    "    plan_file_name = f\"{plan_name}-{date_str}.xlsx\"\n",
    "    plan_file_path = os.path.join(download_dir, plan_file_name)\n",
    "    if os.path.exists(plan_file_path):\n",
    "        if plan_file_path not in plan_files:\n",
    "            plan_files[plan_file_path] = pd.read_excel(plan_file_path,header=3)\n",
    "\n",
    "        # 获取对应的计划文件\n",
    "        plan_file = plan_files[plan_file_path]\n",
    "\n",
    "        # 检查'科目名称'列是否存在于计划文件中\n",
    "        if '科目名称' not in plan_file.columns:\n",
    "            print(f\"文件 {plan_file_path} 中不存在'科目名称'列\")\n",
    "            continue\n",
    "        # 逆回购\n",
    "        if row['资产名称'] == '逆回购':\n",
    "            subject_name = '买入返售金融资产'\n",
    "            cost_row = plan_file[plan_file['科目名称'] == subject_name]\n",
    "            if not cost_row.empty:\n",
    "                file_a.at[index, '全价市值（元）'] = cost_row['成本'].values[0]\n",
    "                print(f\"文件 {plan_file_path} 中全价市值为{cost_row['成本'].values[0]}\")\n",
    "        # 正回购\n",
    "        if row['资产名称'] == '正回购':\n",
    "            subject_name = '卖出回购证券款'\n",
    "            cost_row = plan_file[plan_file['科目名称'] == subject_name]\n",
    "            if not cost_row.empty:\n",
    "                cost_value = cost_row['成本'].values[0]\n",
    "                total_forward = file_a[(file_a['资产名称'] == '正回购') & (file_a['所属资管计划名称'] == plan_name)]['全价市值（元）'].sum()\n",
    "                #需要加上所属资管计划名称外贸信托-盈享致远1号集合资金信托计划\n",
    "\n",
    "\n",
    "                if total_forward != cost_value:\n",
    "                    for forward_index, forward_row in file_a[(file_a['资产名称'] == '正回购') & (file_a['所属资管计划名称'] == plan_name)].iterrows():\n",
    "                        if '131809' in forward_row['资产代码']:\n",
    "                            subject_name_deep = '深交所卖出回购证券'\n",
    "                            cost_row_deep = plan_file[plan_file['科目名称'] == subject_name_deep]\n",
    "                            if not cost_row_deep.empty:\n",
    "                                file_a.at[forward_index, '全价市值（元）'] = round(cost_row_deep['成本'].values[0], 4)\n",
    "                                print(f\"文件 {plan_file_path} 中正回购深交所卖出回购证券全价市值为{cost_row_deep['成本'].values[0]}\")\n",
    "                        elif '204004' in forward_row['资产代码']:\n",
    "                            subject_name_sh = '上交所卖出回购证券'\n",
    "                            cost_row_sh = plan_file[plan_file['科目名称'] == subject_name_sh]\n",
    "                            if not cost_row_sh.empty:\n",
    "                                file_a.at[forward_index, '全价市值（元）'] = round(cost_row_sh['成本'].values[0], 4)\n",
    "                                print(f\"文件 {plan_file_path} 中正回购上交所卖出回购证券全价市值为{cost_row_sh['成本'].values[0]}\")\n",
    "\n",
    "# 保存修改后的文件A\n",
    "# 将DataFrame数据写入工作表\n",
    "for index, row in file_a.iterrows():\n",
    "    for col_index, value in enumerate(row, start=1):  # 从1开始，因为openpyxl的列索引从1开始\n",
    "        cell = ws.cell(row=index + 2, column=col_index)  # +2是因为第一行是列名，跳过第一行和第二行\n",
    "        cell.value = value\n",
    "\n",
    "# 保存工作簿\n",
    "wb.save(file_a_path)"
   ],
   "outputs": [
    {
     "name": "stdout",
     "output_type": "stream",
     "text": [
      "文件 C:\\Users\\05294\\Downloads\\外贸信托-盈享致远1号集合资金信托计划-20240107.xlsx 中全价市值为300059547.96\n",
      "文件 C:\\Users\\05294\\Downloads\\外贸信托-盈享致远1号集合资金信托计划-20240107.xlsx 中正回购上交所卖出回购证券全价市值为300058575.24\n",
      "文件 C:\\Users\\05294\\Downloads\\外贸信托-盈享致远2号集合资金信托计划-20240107.xlsx 中正回购上交所卖出回购证券全价市值为250048149.21\n",
      "文件 C:\\Users\\05294\\Downloads\\外贸信托-盈享致远3号集合资金信托计划-20240107.xlsx 中正回购深交所卖出回购证券全价市值为138620351.32\n",
      "文件 C:\\Users\\05294\\Downloads\\外贸信托-盈享致远3号集合资金信托计划-20240107.xlsx 中正回购上交所卖出回购证券全价市值为1600312209.4\n"
     ]
    },
    {
     "name": "stderr",
     "output_type": "stream",
     "text": [
      "D:\\anaconda3\\Lib\\site-packages\\openpyxl\\styles\\stylesheet.py:237: UserWarning: Workbook contains no default style, apply openpyxl's default\n",
      "  warn(\"Workbook contains no default style, apply openpyxl's default\")\n",
      "D:\\anaconda3\\Lib\\site-packages\\openpyxl\\styles\\stylesheet.py:237: UserWarning: Workbook contains no default style, apply openpyxl's default\n",
      "  warn(\"Workbook contains no default style, apply openpyxl's default\")\n",
      "D:\\anaconda3\\Lib\\site-packages\\openpyxl\\styles\\stylesheet.py:237: UserWarning: Workbook contains no default style, apply openpyxl's default\n",
      "  warn(\"Workbook contains no default style, apply openpyxl's default\")\n"
     ]
    }
   ],
   "execution_count": 22
  },
  {
   "metadata": {
    "ExecuteTime": {
     "end_time": "2024-12-23T07:59:35.691094300Z",
     "start_time": "2024-12-23T07:26:08.209195Z"
    }
   },
   "cell_type": "code",
   "source": "",
   "id": "5c1e714043a3cc48",
   "outputs": [],
   "execution_count": null
  },
  {
   "metadata": {
    "ExecuteTime": {
     "end_time": "2024-12-23T07:59:35.693094900Z",
     "start_time": "2024-12-23T07:26:08.238108Z"
    }
   },
   "cell_type": "code",
   "source": "",
   "id": "df55de3b855b4306",
   "outputs": [],
   "execution_count": null
  }
 ],
 "metadata": {
  "kernelspec": {
   "display_name": "Python 3",
   "language": "python",
   "name": "python3"
  },
  "language_info": {
   "codemirror_mode": {
    "name": "ipython",
    "version": 2
   },
   "file_extension": ".py",
   "mimetype": "text/x-python",
   "name": "python",
   "nbconvert_exporter": "python",
   "pygments_lexer": "ipython2",
   "version": "2.7.6"
  }
 },
 "nbformat": 4,
 "nbformat_minor": 5
}
