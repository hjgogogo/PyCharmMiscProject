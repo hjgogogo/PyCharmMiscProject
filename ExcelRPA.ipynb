{
 "cells": [
  {
   "cell_type": "code",
   "id": "initial_id",
   "metadata": {
    "collapsed": true,
    "ExecuteTime": {
     "end_time": "2024-12-23T05:57:10.226976Z",
     "start_time": "2024-12-23T05:57:03.677075Z"
    }
   },
   "source": [
    "import pandas as pd\n",
    "import os\n",
    "from datetime import datetime\n",
    "import warnings\n",
    "\n",
    "# 抑制特定类型的警告\n",
    "with warnings.catch_warnings():\n",
    "    warnings.simplefilter(\"ignore\", category=UserWarning)\n",
    "\n",
    "# 打开文件A\n",
    "file_a_path = r'C:\\Users\\05294\\Downloads\\外贸信托-盈享致远-2024-01-07.xlsx'\n",
    "file_a = pd.read_excel(file_a_path)\n",
    "\n",
    "# 删除资产代码列中字符串开头不是NHG和ZHG开头的行\n",
    "file_a = file_a[file_a['资产代码'].str.startswith('NHG') | file_a['资产代码'].str.startswith('ZHG')]\n",
    "\n",
    "# 定义下载目录\n",
    "download_dir = r'C:\\Users\\05294\\Downloads'\n",
    "\n",
    "# 获取用户输入的日期\n",
    "date_input = input(\"请输入日期（格式如20240107）：\")\n",
    "date = datetime.strptime(date_input, '%Y%m%d')\n",
    "\n",
    "# 遍历所属资管计划名称列去打开对应的excel文件\n",
    "plan_files = {}\n",
    "for index, row in file_a.iterrows():\n",
    "    plan_name = row['所属资管计划名称']\n",
    "    date_str = date.strftime('%Y%m%d')  # 将日期格式化为20240107格式\n",
    "    plan_file_name = f\"{plan_name}-{date_str}.xlsx\"\n",
    "    plan_file_path = os.path.join(download_dir, plan_file_name)\n",
    "    print(plan_file_path)\n",
    "    if os.path.exists(plan_file_path):\n",
    "        if plan_file_path not in plan_files:\n",
    "            plan_files[plan_file_path] = pd.read_excel(plan_file_path,header=3)\n",
    "\n",
    "        # 获取对应的计划文件\n",
    "        plan_file = plan_files[plan_file_path]\n",
    "        print(\"列名：\", plan_file.columns.tolist())\n",
    "        # 检查'科目名称'列是否存在于计划文件中\n",
    "        if '科目名称' not in plan_file.columns:\n",
    "            print(f\"文件 {plan_file_path} 中不存在'科目名称'列\")\n",
    "            continue\n",
    "        # 逆回购\n",
    "        if row['资产名称'] == '逆回购':\n",
    "            subject_name = '买入返售金融资产'\n",
    "            cost_row = plan_file[plan_file['科目名称'] == subject_name]\n",
    "            if not cost_row.empty:\n",
    "                file_a.at[index, '全价市值（元）'] = cost_row['成本'].values[0]\n",
    "\n",
    "        # 正回购\n",
    "        if row['资产名称'] == '正回购':\n",
    "            subject_name = '卖出回购证券款'\n",
    "            cost_row = plan_file[plan_file['科目名称'] == subject_name]\n",
    "            if not cost_row.empty:\n",
    "                cost_value = cost_row['成本'].values[0]\n",
    "                total_forward = file_a[file_a['资产名称'] == '正回购']['全价市值（元）'].sum()\n",
    "                if total_forward != cost_value:\n",
    "                    for forward_index, forward_row in file_a[file_a['资产名称'] == '正回购'].iterrows():\n",
    "                        if '131809' in forward_row['资产代码']:\n",
    "                            subject_name_deep = '深交所卖出回购证券'\n",
    "                            cost_row_deep = plan_file[plan_file['科目名称'] == subject_name_deep]\n",
    "                            if not cost_row_deep.empty:\n",
    "                                file_a.at[forward_index, '全价市值（元）'] = cost_row_deep['成本'].values[0]\n",
    "                        elif '204004' in forward_row['资产代码']:\n",
    "                            subject_name_sh = '上交所卖出回购证券'\n",
    "                            cost_row_sh = plan_file[plan_file['科目名称'] == subject_name_sh]\n",
    "                            if not cost_row_sh.empty:\n",
    "                                file_a.at[forward_index, '全价市值（元）'] = cost_row_sh['成本'].values[0]\n",
    "\n",
    "# 保存修改后的文件A\n",
    "file_a.to_excel(file_a_path, index=False)"
   ],
   "outputs": [
    {
     "name": "stdout",
     "output_type": "stream",
     "text": [
      "C:\\Users\\05294\\Downloads\\外贸信托-盈享致远1号集合资金信托计划-20240107.xlsx\n",
      "列名： ['科目代码', '科目名称', '数量', '单位成本', '成本', '成本占净值%', '成本占总资产%', '市价', '市值', '市值占净值%', '市值占总资产%', '估值增值', '停牌信息']\n",
      "C:\\Users\\05294\\Downloads\\外贸信托-盈享致远1号集合资金信托计划-20240107.xlsx\n",
      "列名： ['科目代码', '科目名称', '数量', '单位成本', '成本', '成本占净值%', '成本占总资产%', '市价', '市值', '市值占净值%', '市值占总资产%', '估值增值', '停牌信息']\n",
      "C:\\Users\\05294\\Downloads\\外贸信托-盈享致远2号集合资金信托计划-20240107.xlsx\n",
      "列名： ['科目代码', '科目名称', '数量', '单位成本', '成本', '成本占净值%', '成本占总资产%', '市价', '市值', '市值占净值%', '市值占总资产%', '估值增值', '停牌信息']\n",
      "C:\\Users\\05294\\Downloads\\外贸信托-盈享致远3号集合资金信托计划-20240107.xlsx\n",
      "列名： ['科目代码', '科目名称', '数量', '单位成本', '成本', '成本占净值%', '成本占总资产%', '市价', '市值', '市值占净值%', '市值占总资产%', '估值增值', '停牌信息']\n",
      "C:\\Users\\05294\\Downloads\\外贸信托-盈享致远3号集合资金信托计划-20240107.xlsx\n",
      "列名： ['科目代码', '科目名称', '数量', '单位成本', '成本', '成本占净值%', '成本占总资产%', '市价', '市值', '市值占净值%', '市值占总资产%', '估值增值', '停牌信息']\n"
     ]
    },
    {
     "name": "stderr",
     "output_type": "stream",
     "text": [
      "D:\\anaconda3\\Lib\\site-packages\\openpyxl\\styles\\stylesheet.py:237: UserWarning: Workbook contains no default style, apply openpyxl's default\n",
      "  warn(\"Workbook contains no default style, apply openpyxl's default\")\n",
      "D:\\anaconda3\\Lib\\site-packages\\openpyxl\\styles\\stylesheet.py:237: UserWarning: Workbook contains no default style, apply openpyxl's default\n",
      "  warn(\"Workbook contains no default style, apply openpyxl's default\")\n",
      "D:\\anaconda3\\Lib\\site-packages\\openpyxl\\styles\\stylesheet.py:237: UserWarning: Workbook contains no default style, apply openpyxl's default\n",
      "  warn(\"Workbook contains no default style, apply openpyxl's default\")\n"
     ]
    }
   ],
   "execution_count": 13
  },
  {
   "metadata": {
    "ExecuteTime": {
     "end_time": "2024-12-23T05:57:10.237921Z",
     "start_time": "2024-12-23T05:57:10.234911Z"
    }
   },
   "cell_type": "code",
   "source": "",
   "id": "5c1e714043a3cc48",
   "outputs": [],
   "execution_count": null
  },
  {
   "metadata": {
    "ExecuteTime": {
     "end_time": "2024-12-23T05:57:10.265362Z",
     "start_time": "2024-12-23T05:57:10.262559Z"
    }
   },
   "cell_type": "code",
   "source": "",
   "id": "df55de3b855b4306",
   "outputs": [],
   "execution_count": null
  }
 ],
 "metadata": {
  "kernelspec": {
   "display_name": "Python 3",
   "language": "python",
   "name": "python3"
  },
  "language_info": {
   "codemirror_mode": {
    "name": "ipython",
    "version": 2
   },
   "file_extension": ".py",
   "mimetype": "text/x-python",
   "name": "python",
   "nbconvert_exporter": "python",
   "pygments_lexer": "ipython2",
   "version": "2.7.6"
  }
 },
 "nbformat": 4,
 "nbformat_minor": 5
}
